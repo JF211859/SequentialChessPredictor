{
 "cells": [
  {
   "cell_type": "code",
   "execution_count": 1,
   "metadata": {},
   "outputs": [],
   "source": [
    "import numpy as np \n",
    "import polars # move to polars\n",
    "import os\n",
    "from tqdm import tqdm\n",
    "from time import sleep\n",
    "import asyncio\n",
    "import chess"
   ]
  },
  {
   "cell_type": "code",
   "execution_count": 28,
   "metadata": {},
   "outputs": [
    {
     "name": "stdout",
     "output_type": "stream",
     "text": [
      "chess.zip: Skipping, found more recently modified local copy (use --force to force download)\n"
     ]
    }
   ],
   "source": [
    "!kaggle datasets download -d datasnaek/chess"
   ]
  },
  {
   "cell_type": "code",
   "execution_count": 29,
   "metadata": {},
   "outputs": [],
   "source": [
    "!unzip -qf chess.zip"
   ]
  },
  {
   "cell_type": "code",
   "execution_count": 2,
   "metadata": {},
   "outputs": [],
   "source": [
    "games = polars.read_csv(\"games.csv\", columns=[\"moves\", \"white_rating\", \"black_rating\"])"
   ]
  },
  {
   "cell_type": "code",
   "execution_count": 3,
   "metadata": {},
   "outputs": [],
   "source": [
    "async def seperateMoves1(game, moves):\n",
    "    previousMovesList = []\n",
    "    previousMoves = []\n",
    "    targets = []\n",
    "    numMoves = len(moves)\n",
    "    for j in range(numMoves):\n",
    "        previousMovesList.append(previousMoves.copy())\n",
    "        previousMoves.append(moves[j])\n",
    "        targets.append(moves[j])\n",
    "    multipleGamesNoMoves = polars.DataFrame([game]*numMoves, orient=\"row\")\n",
    "    return previousMovesList, targets, multipleGamesNoMoves"
   ]
  },
  {
   "cell_type": "code",
   "execution_count": 4,
   "metadata": {},
   "outputs": [
    {
     "name": "stderr",
     "output_type": "stream",
     "text": [
      "100%|██████████| 20058/20058 [00:00<00:00, 25602.30it/s]\n",
      "100%|██████████| 20058/20058 [00:15<00:00, 1310.69it/s]\n"
     ]
    },
    {
     "name": "stdout",
     "output_type": "stream",
     "text": [
      "previousMovesList has been concatenated\n",
      "targets has been concatenated\n",
      "multipleGamesNoMoves has been concatenated\n"
     ]
    }
   ],
   "source": [
    "movesFrame = games.get_column(\"moves\")\n",
    "gamesNoMoves = games.drop(\"moves\")\n",
    "numGames = len(gamesNoMoves)\n",
    "seperatedNoMoves = polars.DataFrame(columns=gamesNoMoves.columns)\n",
    "seperatedGamesFutures = []\n",
    "for i in tqdm(range(numGames)): # TODO executor instead of async\n",
    "    seperatedGamesFutures.append(seperateMoves1(gamesNoMoves.row(i), movesFrame[i].split(\" \")))\n",
    "\n",
    "previousMovesListList = []\n",
    "targetsLists = []\n",
    "multipleGamesNoMovesList = []\n",
    "for i in tqdm(range(numGames)):\n",
    "    previousMovesList, targets, repeatedGame = (await asyncio.gather(seperatedGamesFutures[i]))[0]\n",
    "    previousMovesListList.append(previousMovesList)\n",
    "    targetsLists.append(targets)\n",
    "    multipleGamesNoMovesList.append(repeatedGame)\n",
    "previousMovesList = [str(previousMoves) for list in previousMovesListList for previousMoves in list]\n",
    "print(\"previousMovesList has been concatenated\")\n",
    "targets = [target for list in targetsLists for target in list]\n",
    "print(\"targets has been concatenated\")\n",
    "multipleGamesNoMoves = polars.concat(multipleGamesNoMovesList)\n",
    "print(\"multipleGamesNoMoves has been concatenated\")"
   ]
  },
  {
   "cell_type": "code",
   "execution_count": 5,
   "metadata": {},
   "outputs": [
    {
     "data": {
      "text/plain": [
       "[Int64, Int64, Utf8, Utf8]"
      ]
     },
     "execution_count": 5,
     "metadata": {},
     "output_type": "execute_result"
    }
   ],
   "source": [
    "clean = multipleGamesNoMoves\n",
    "clean = clean.with_column(polars.Series(\"target\", targets, dtype='str'))\n",
    "clean = clean.with_column(polars.Series(\"previousMoves\", previousMovesList, dtype='str'))\n",
    "clean.columns = [\"white_rating\", \"balck_rating\", \"target\", \"previousMoves\"]\n",
    "clean.dtypes"
   ]
  },
  {
   "cell_type": "code",
   "execution_count": 7,
   "metadata": {},
   "outputs": [],
   "source": [
    "clean.write_csv(\"clean.csv\")"
   ]
  },
  {
   "cell_type": "code",
   "execution_count": 8,
   "metadata": {},
   "outputs": [],
   "source": [
    "clean = polars.read_csv(\"clean.csv\")"
   ]
  },
  {
   "cell_type": "code",
   "execution_count": 9,
   "metadata": {},
   "outputs": [
    {
     "data": {
      "text/html": [
       "<div>\n",
       "<style scoped>\n",
       "    .dataframe tbody tr th:only-of-type {\n",
       "        vertical-align: middle;\n",
       "    }\n",
       "\n",
       "    .dataframe tbody tr th {\n",
       "        vertical-align: top;\n",
       "    }\n",
       "\n",
       "    .dataframe thead th {\n",
       "        text-align: right;\n",
       "    }\n",
       "\n",
       "    .dataframe td {\n",
       "        white-space: pre;\n",
       "    }\n",
       "\n",
       "    .dataframe td {\n",
       "        padding-top: 0;\n",
       "    }\n",
       "\n",
       "    .dataframe td {\n",
       "        padding-bottom: 0;\n",
       "    }\n",
       "</style>\n",
       "<table border=\"1\" class=\"dataframe\">\n",
       "<small>shape: (5, 4)</small>\n",
       "<thead>\n",
       "<tr>\n",
       "<th>\n",
       "white_rating\n",
       "</th>\n",
       "<th>\n",
       "balck_rating\n",
       "</th>\n",
       "<th>\n",
       "target\n",
       "</th>\n",
       "<th>\n",
       "previousMoves\n",
       "</th>\n",
       "</tr>\n",
       "<tr>\n",
       "<td>\n",
       "i64\n",
       "</td>\n",
       "<td>\n",
       "i64\n",
       "</td>\n",
       "<td>\n",
       "str\n",
       "</td>\n",
       "<td>\n",
       "str\n",
       "</td>\n",
       "</tr>\n",
       "</thead>\n",
       "<tbody>\n",
       "<tr>\n",
       "<td>\n",
       "1500\n",
       "</td>\n",
       "<td>\n",
       "1191\n",
       "</td>\n",
       "<td>\n",
       "&quot;d4&quot;\n",
       "</td>\n",
       "<td>\n",
       "&quot;[]&quot;\n",
       "</td>\n",
       "</tr>\n",
       "<tr>\n",
       "<td>\n",
       "1500\n",
       "</td>\n",
       "<td>\n",
       "1191\n",
       "</td>\n",
       "<td>\n",
       "&quot;d5&quot;\n",
       "</td>\n",
       "<td>\n",
       "&quot;[&#x27;d4&#x27;]&quot;\n",
       "</td>\n",
       "</tr>\n",
       "<tr>\n",
       "<td>\n",
       "1500\n",
       "</td>\n",
       "<td>\n",
       "1191\n",
       "</td>\n",
       "<td>\n",
       "&quot;c4&quot;\n",
       "</td>\n",
       "<td>\n",
       "&quot;[&#x27;d4&#x27;, &#x27;d5&#x27;]&quot;\n",
       "</td>\n",
       "</tr>\n",
       "<tr>\n",
       "<td>\n",
       "1500\n",
       "</td>\n",
       "<td>\n",
       "1191\n",
       "</td>\n",
       "<td>\n",
       "&quot;c6&quot;\n",
       "</td>\n",
       "<td>\n",
       "&quot;[&#x27;d4&#x27;, &#x27;d5&#x27;, &#x27;...\n",
       "</td>\n",
       "</tr>\n",
       "<tr>\n",
       "<td>\n",
       "1500\n",
       "</td>\n",
       "<td>\n",
       "1191\n",
       "</td>\n",
       "<td>\n",
       "&quot;cxd5&quot;\n",
       "</td>\n",
       "<td>\n",
       "&quot;[&#x27;d4&#x27;, &#x27;d5&#x27;, &#x27;...\n",
       "</td>\n",
       "</tr>\n",
       "</tbody>\n",
       "</table>\n",
       "</div>"
      ],
      "text/plain": [
       "shape: (5, 4)\n",
       "┌──────────────┬──────────────┬────────┬──────────────────────────┐\n",
       "│ white_rating ┆ balck_rating ┆ target ┆ previousMoves            │\n",
       "│ ---          ┆ ---          ┆ ---    ┆ ---                      │\n",
       "│ i64          ┆ i64          ┆ str    ┆ str                      │\n",
       "╞══════════════╪══════════════╪════════╪══════════════════════════╡\n",
       "│ 1500         ┆ 1191         ┆ d4     ┆ []                       │\n",
       "├╌╌╌╌╌╌╌╌╌╌╌╌╌╌┼╌╌╌╌╌╌╌╌╌╌╌╌╌╌┼╌╌╌╌╌╌╌╌┼╌╌╌╌╌╌╌╌╌╌╌╌╌╌╌╌╌╌╌╌╌╌╌╌╌╌┤\n",
       "│ 1500         ┆ 1191         ┆ d5     ┆ ['d4']                   │\n",
       "├╌╌╌╌╌╌╌╌╌╌╌╌╌╌┼╌╌╌╌╌╌╌╌╌╌╌╌╌╌┼╌╌╌╌╌╌╌╌┼╌╌╌╌╌╌╌╌╌╌╌╌╌╌╌╌╌╌╌╌╌╌╌╌╌╌┤\n",
       "│ 1500         ┆ 1191         ┆ c4     ┆ ['d4', 'd5']             │\n",
       "├╌╌╌╌╌╌╌╌╌╌╌╌╌╌┼╌╌╌╌╌╌╌╌╌╌╌╌╌╌┼╌╌╌╌╌╌╌╌┼╌╌╌╌╌╌╌╌╌╌╌╌╌╌╌╌╌╌╌╌╌╌╌╌╌╌┤\n",
       "│ 1500         ┆ 1191         ┆ c6     ┆ ['d4', 'd5', 'c4']       │\n",
       "├╌╌╌╌╌╌╌╌╌╌╌╌╌╌┼╌╌╌╌╌╌╌╌╌╌╌╌╌╌┼╌╌╌╌╌╌╌╌┼╌╌╌╌╌╌╌╌╌╌╌╌╌╌╌╌╌╌╌╌╌╌╌╌╌╌┤\n",
       "│ 1500         ┆ 1191         ┆ cxd5   ┆ ['d4', 'd5', 'c4', 'c6'] │\n",
       "└──────────────┴──────────────┴────────┴──────────────────────────┘"
      ]
     },
     "execution_count": 9,
     "metadata": {},
     "output_type": "execute_result"
    }
   ],
   "source": [
    "clean.head()"
   ]
  },
  {
   "cell_type": "code",
   "execution_count": 19,
   "metadata": {},
   "outputs": [
    {
     "name": "stderr",
     "output_type": "stream",
     "text": [
      "100%|██████████| 1212827/1212827 [01:56<00:00, 10413.51it/s]\n"
     ]
    }
   ],
   "source": [
    "lengthOfGames = []\n",
    "length = 0\n",
    "previousMoves = clean.get_column(\"previousMoves\")\n",
    "for moves in tqdm(previousMoves):\n",
    "    if moves == '[]':\n",
    "        lengthOfGames.append(length+1)\n",
    "        length = 0\n",
    "    else:\n",
    "        length += 1\n",
    "lengthOfGames.append(length+1)\n",
    "lengthOfGames = lengthOfGames[1:]"
   ]
  },
  {
   "cell_type": "code",
   "execution_count": 20,
   "metadata": {},
   "outputs": [
    {
     "name": "stderr",
     "output_type": "stream",
     "text": [
      "100%|██████████| 20058/20058 [08:26<00:00, 39.57it/s] \n"
     ]
    }
   ],
   "source": [
    "startingIndexOfGame = 0\n",
    "fens = []\n",
    "for length in tqdm(lengthOfGames): #TODO paralelize\n",
    "    board = chess.Board()\n",
    "    moves = clean[startingIndexOfGame:startingIndexOfGame + length][\"target\"]\n",
    "    for SANmove in moves:\n",
    "        PGNmove = board.parse_san(SANmove)\n",
    "        board.push(PGNmove)\n",
    "        fens.append(board.fen())\n",
    "    startingIndexOfGame += length"
   ]
  },
  {
   "cell_type": "code",
   "execution_count": 21,
   "metadata": {},
   "outputs": [],
   "source": [
    "clean = clean.with_column(polars.Series(\"fen\", fens, dtype='str'))"
   ]
  },
  {
   "cell_type": "code",
   "execution_count": 23,
   "metadata": {},
   "outputs": [],
   "source": [
    "clean.write_csv(\"cleanWithFen.csv\")"
   ]
  },
  {
   "cell_type": "code",
   "execution_count": 24,
   "metadata": {},
   "outputs": [],
   "source": [
    "cleanWithFen = polars.read_csv(\"cleanWithFen.csv\")"
   ]
  },
  {
   "cell_type": "code",
   "execution_count": 25,
   "metadata": {},
   "outputs": [
    {
     "data": {
      "text/html": [
       "<div>\n",
       "<style scoped>\n",
       "    .dataframe tbody tr th:only-of-type {\n",
       "        vertical-align: middle;\n",
       "    }\n",
       "\n",
       "    .dataframe tbody tr th {\n",
       "        vertical-align: top;\n",
       "    }\n",
       "\n",
       "    .dataframe thead th {\n",
       "        text-align: right;\n",
       "    }\n",
       "\n",
       "    .dataframe td {\n",
       "        white-space: pre;\n",
       "    }\n",
       "\n",
       "    .dataframe td {\n",
       "        padding-top: 0;\n",
       "    }\n",
       "\n",
       "    .dataframe td {\n",
       "        padding-bottom: 0;\n",
       "    }\n",
       "</style>\n",
       "<table border=\"1\" class=\"dataframe\">\n",
       "<small>shape: (5, 5)</small>\n",
       "<thead>\n",
       "<tr>\n",
       "<th>\n",
       "white_rating\n",
       "</th>\n",
       "<th>\n",
       "balck_rating\n",
       "</th>\n",
       "<th>\n",
       "target\n",
       "</th>\n",
       "<th>\n",
       "previousMoves\n",
       "</th>\n",
       "<th>\n",
       "fen\n",
       "</th>\n",
       "</tr>\n",
       "<tr>\n",
       "<td>\n",
       "i64\n",
       "</td>\n",
       "<td>\n",
       "i64\n",
       "</td>\n",
       "<td>\n",
       "str\n",
       "</td>\n",
       "<td>\n",
       "str\n",
       "</td>\n",
       "<td>\n",
       "str\n",
       "</td>\n",
       "</tr>\n",
       "</thead>\n",
       "<tbody>\n",
       "<tr>\n",
       "<td>\n",
       "1500\n",
       "</td>\n",
       "<td>\n",
       "1191\n",
       "</td>\n",
       "<td>\n",
       "&quot;d4&quot;\n",
       "</td>\n",
       "<td>\n",
       "&quot;[]&quot;\n",
       "</td>\n",
       "<td>\n",
       "&quot;rnbqkbnr/ppppp...\n",
       "</td>\n",
       "</tr>\n",
       "<tr>\n",
       "<td>\n",
       "1500\n",
       "</td>\n",
       "<td>\n",
       "1191\n",
       "</td>\n",
       "<td>\n",
       "&quot;d5&quot;\n",
       "</td>\n",
       "<td>\n",
       "&quot;[&#x27;d4&#x27;]&quot;\n",
       "</td>\n",
       "<td>\n",
       "&quot;rnbqkbnr/ppp1p...\n",
       "</td>\n",
       "</tr>\n",
       "<tr>\n",
       "<td>\n",
       "1500\n",
       "</td>\n",
       "<td>\n",
       "1191\n",
       "</td>\n",
       "<td>\n",
       "&quot;c4&quot;\n",
       "</td>\n",
       "<td>\n",
       "&quot;[&#x27;d4&#x27;, &#x27;d5&#x27;]&quot;\n",
       "</td>\n",
       "<td>\n",
       "&quot;rnbqkbnr/ppp1p...\n",
       "</td>\n",
       "</tr>\n",
       "<tr>\n",
       "<td>\n",
       "1500\n",
       "</td>\n",
       "<td>\n",
       "1191\n",
       "</td>\n",
       "<td>\n",
       "&quot;c6&quot;\n",
       "</td>\n",
       "<td>\n",
       "&quot;[&#x27;d4&#x27;, &#x27;d5&#x27;, &#x27;...\n",
       "</td>\n",
       "<td>\n",
       "&quot;rnbqkbnr/pp2pp...\n",
       "</td>\n",
       "</tr>\n",
       "<tr>\n",
       "<td>\n",
       "1500\n",
       "</td>\n",
       "<td>\n",
       "1191\n",
       "</td>\n",
       "<td>\n",
       "&quot;cxd5&quot;\n",
       "</td>\n",
       "<td>\n",
       "&quot;[&#x27;d4&#x27;, &#x27;d5&#x27;, &#x27;...\n",
       "</td>\n",
       "<td>\n",
       "&quot;rnbqkbnr/pp2pp...\n",
       "</td>\n",
       "</tr>\n",
       "</tbody>\n",
       "</table>\n",
       "</div>"
      ],
      "text/plain": [
       "shape: (5, 5)\n",
       "┌──────────────┬──────────────┬────────┬──────────────────────────┬────────────────────────────────┐\n",
       "│ white_rating ┆ balck_rating ┆ target ┆ previousMoves            ┆ fen                            │\n",
       "│ ---          ┆ ---          ┆ ---    ┆ ---                      ┆ ---                            │\n",
       "│ i64          ┆ i64          ┆ str    ┆ str                      ┆ str                            │\n",
       "╞══════════════╪══════════════╪════════╪══════════════════════════╪════════════════════════════════╡\n",
       "│ 1500         ┆ 1191         ┆ d4     ┆ []                       ┆ rnbqkbnr/pppppppp/8/8/3P4/8/PP │\n",
       "│              ┆              ┆        ┆                          ┆ P1...                          │\n",
       "├╌╌╌╌╌╌╌╌╌╌╌╌╌╌┼╌╌╌╌╌╌╌╌╌╌╌╌╌╌┼╌╌╌╌╌╌╌╌┼╌╌╌╌╌╌╌╌╌╌╌╌╌╌╌╌╌╌╌╌╌╌╌╌╌╌┼╌╌╌╌╌╌╌╌╌╌╌╌╌╌╌╌╌╌╌╌╌╌╌╌╌╌╌╌╌╌╌╌┤\n",
       "│ 1500         ┆ 1191         ┆ d5     ┆ ['d4']                   ┆ rnbqkbnr/ppp1pppp/8/3p4/3P4/8/ │\n",
       "│              ┆              ┆        ┆                          ┆ PP...                          │\n",
       "├╌╌╌╌╌╌╌╌╌╌╌╌╌╌┼╌╌╌╌╌╌╌╌╌╌╌╌╌╌┼╌╌╌╌╌╌╌╌┼╌╌╌╌╌╌╌╌╌╌╌╌╌╌╌╌╌╌╌╌╌╌╌╌╌╌┼╌╌╌╌╌╌╌╌╌╌╌╌╌╌╌╌╌╌╌╌╌╌╌╌╌╌╌╌╌╌╌╌┤\n",
       "│ 1500         ┆ 1191         ┆ c4     ┆ ['d4', 'd5']             ┆ rnbqkbnr/ppp1pppp/8/3p4/2PP4/8 │\n",
       "│              ┆              ┆        ┆                          ┆ /P...                          │\n",
       "├╌╌╌╌╌╌╌╌╌╌╌╌╌╌┼╌╌╌╌╌╌╌╌╌╌╌╌╌╌┼╌╌╌╌╌╌╌╌┼╌╌╌╌╌╌╌╌╌╌╌╌╌╌╌╌╌╌╌╌╌╌╌╌╌╌┼╌╌╌╌╌╌╌╌╌╌╌╌╌╌╌╌╌╌╌╌╌╌╌╌╌╌╌╌╌╌╌╌┤\n",
       "│ 1500         ┆ 1191         ┆ c6     ┆ ['d4', 'd5', 'c4']       ┆ rnbqkbnr/pp2pppp/2p5/3p4/2PP4/ │\n",
       "│              ┆              ┆        ┆                          ┆ 8/...                          │\n",
       "├╌╌╌╌╌╌╌╌╌╌╌╌╌╌┼╌╌╌╌╌╌╌╌╌╌╌╌╌╌┼╌╌╌╌╌╌╌╌┼╌╌╌╌╌╌╌╌╌╌╌╌╌╌╌╌╌╌╌╌╌╌╌╌╌╌┼╌╌╌╌╌╌╌╌╌╌╌╌╌╌╌╌╌╌╌╌╌╌╌╌╌╌╌╌╌╌╌╌┤\n",
       "│ 1500         ┆ 1191         ┆ cxd5   ┆ ['d4', 'd5', 'c4', 'c6'] ┆ rnbqkbnr/pp2pppp/2p5/3P4/3P4/8 │\n",
       "│              ┆              ┆        ┆                          ┆ /P...                          │\n",
       "└──────────────┴──────────────┴────────┴──────────────────────────┴────────────────────────────────┘"
      ]
     },
     "execution_count": 25,
     "metadata": {},
     "output_type": "execute_result"
    }
   ],
   "source": [
    "cleanWithFen.head()"
   ]
  }
 ],
 "metadata": {
  "kernelspec": {
   "display_name": "Python 3.10.2 ('.venv': poetry)",
   "language": "python",
   "name": "python3"
  },
  "language_info": {
   "codemirror_mode": {
    "name": "ipython",
    "version": 3
   },
   "file_extension": ".py",
   "mimetype": "text/x-python",
   "name": "python",
   "nbconvert_exporter": "python",
   "pygments_lexer": "ipython3",
   "version": "3.10.2"
  },
  "orig_nbformat": 4,
  "vscode": {
   "interpreter": {
    "hash": "1c2587107377d4a05f1e7bb86042c2973b2972203ac39b51f517e42d400f081f"
   }
  }
 },
 "nbformat": 4,
 "nbformat_minor": 2
}
