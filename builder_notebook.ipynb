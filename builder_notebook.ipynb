{
 "cells": [
  {
   "cell_type": "code",
   "execution_count": 10,
   "metadata": {},
   "outputs": [],
   "source": [
    "import numpy as np \n",
    "import pandas as pd\n",
    "import os\n",
    "from tqdm import tqdm\n",
    "from time import sleep\n",
    "import asyncio"
   ]
  },
  {
   "cell_type": "code",
   "execution_count": 5,
   "metadata": {},
   "outputs": [
    {
     "name": "stdout",
     "output_type": "stream",
     "text": [
      "Downloading chess.zip to /home/justin/kaggle/SequentialChessPredictor\n",
      " 72%|███████████████████████████▍          | 2.00M/2.77M [00:00<00:00, 7.65MB/s]\n",
      "100%|██████████████████████████████████████| 2.77M/2.77M [00:00<00:00, 8.04MB/s]\n"
     ]
    }
   ],
   "source": [
    "!kaggle datasets download -d datasnaek/chess"
   ]
  },
  {
   "cell_type": "code",
   "execution_count": 6,
   "metadata": {},
   "outputs": [],
   "source": [
    "!unzip -q chess.zip"
   ]
  },
  {
   "cell_type": "code",
   "execution_count": 7,
   "metadata": {},
   "outputs": [],
   "source": [
    "games = pd.read_csv(\"games.csv\")"
   ]
  },
  {
   "cell_type": "code",
   "execution_count": 8,
   "metadata": {},
   "outputs": [
    {
     "name": "stdout",
     "output_type": "stream",
     "text": [
      "         id  rated    created_at  last_move_at  turns victory_status winner  \\\n",
      "0  TZJHLljE  False  1.504210e+12  1.504210e+12     13      outoftime  white   \n",
      "1  l1NXvwaE   True  1.504130e+12  1.504130e+12     16         resign  black   \n",
      "2  mIICvQHh   True  1.504130e+12  1.504130e+12     61           mate  white   \n",
      "3  kWKvrqYL   True  1.504110e+12  1.504110e+12     61           mate  white   \n",
      "4  9tXo1AUZ   True  1.504030e+12  1.504030e+12     95           mate  white   \n",
      "\n",
      "  increment_code       white_id  white_rating      black_id  black_rating  \\\n",
      "0           15+2       bourgris          1500          a-00          1191   \n",
      "1           5+10           a-00          1322     skinnerua          1261   \n",
      "2           5+10         ischia          1496          a-00          1500   \n",
      "3           20+0  daniamurashov          1439  adivanov2009          1454   \n",
      "4           30+3      nik221107          1523  adivanov2009          1469   \n",
      "\n",
      "                                               moves opening_eco  \\\n",
      "0  d4 d5 c4 c6 cxd5 e6 dxe6 fxe6 Nf3 Bb4+ Nc3 Ba5...         D10   \n",
      "1  d4 Nc6 e4 e5 f4 f6 dxe5 fxe5 fxe5 Nxe5 Qd4 Nc6...         B00   \n",
      "2  e4 e5 d3 d6 Be3 c6 Be2 b5 Nd2 a5 a4 c5 axb5 Nc...         C20   \n",
      "3  d4 d5 Nf3 Bf5 Nc3 Nf6 Bf4 Ng4 e3 Nc6 Be2 Qd7 O...         D02   \n",
      "4  e4 e5 Nf3 d6 d4 Nc6 d5 Nb4 a3 Na6 Nc3 Be7 b4 N...         C41   \n",
      "\n",
      "                             opening_name  opening_ply  \n",
      "0        Slav Defense: Exchange Variation            5  \n",
      "1  Nimzowitsch Defense: Kennedy Variation            4  \n",
      "2   King's Pawn Game: Leonardis Variation            3  \n",
      "3  Queen's Pawn Game: Zukertort Variation            3  \n",
      "4                        Philidor Defense            5  \n"
     ]
    }
   ],
   "source": [
    "print(games.head())"
   ]
  },
  {
   "cell_type": "code",
   "execution_count": 24,
   "metadata": {},
   "outputs": [],
   "source": [
    "async def seperateMoves (game, moves) :\n",
    "    gameDict = game.to_dict()\n",
    "    numMoves = len(moves)\n",
    "    seperatedMoves = pd.DataFrame(columns = list(gameDict.keys()) + [\"target\"])\n",
    "    for i in range(numMoves - 1):\n",
    "        personalGameDict = dict(gameDict)\n",
    "        personalGameDict.update({\"moves\": moves[:i], \"target\": moves[i+1]})\n",
    "        newRow = pd.DataFrame(personalGameDict)\n",
    "        seperatedMoves = pd.concat(\n",
    "            [seperatedMoves, newRow],\n",
    "            ignore_index = True,\n",
    "            axis=0, \n",
    "            join='outer',\n",
    "        )\n",
    "    return seperatedMoves"
   ]
  },
  {
   "cell_type": "code",
   "execution_count": 26,
   "metadata": {},
   "outputs": [
    {
     "name": "stderr",
     "output_type": "stream",
     "text": [
      "/tmp/ipykernel_4135/4050250722.py:6: RuntimeWarning: coroutine 'seperateMoves' was never awaited\n",
      "  seperatedGamesFutures = []\n",
      "RuntimeWarning: Enable tracemalloc to get the object allocation traceback\n",
      "100%|██████████| 20058/20058 [00:08<00:00, 2232.55it/s]\n",
      "  0%|          | 62/20058 [00:18<1:40:51,  3.30it/s]\n"
     ]
    },
    {
     "ename": "CancelledError",
     "evalue": "",
     "output_type": "error",
     "traceback": [
      "\u001b[0;31m---------------------------------------------------------------------------\u001b[0m",
      "\u001b[0;31mCancelledError\u001b[0m                            Traceback (most recent call last)",
      "Cell \u001b[0;32mIn[26], line 12\u001b[0m\n\u001b[1;32m     10\u001b[0m seperatedGamesList \u001b[39m=\u001b[39m []\n\u001b[1;32m     11\u001b[0m \u001b[39mfor\u001b[39;00m i \u001b[39min\u001b[39;00m tqdm(\u001b[39mrange\u001b[39m(numGames)):\n\u001b[0;32m---> 12\u001b[0m     seperatedGamesList\u001b[39m.\u001b[39mappend((\u001b[39mawait\u001b[39;00m asyncio\u001b[39m.\u001b[39mgather(seperatedGamesFutures[i]))[\u001b[39m0\u001b[39m])\n\u001b[1;32m     13\u001b[0m \u001b[39mprint\u001b[39m(\u001b[39mtype\u001b[39m(seperatedGamesList))\n",
      "\u001b[0;31mCancelledError\u001b[0m: "
     ]
    }
   ],
   "source": [
    "import warnings\n",
    "warnings.simplefilter(action='ignore', category=FutureWarning)\n",
    "movesFrame = games[\"moves\"]\n",
    "gamesNoMoves = games.drop(\"moves\", axis = 1)\n",
    "numGames = len(gamesNoMoves)\n",
    "seperatedGamesFutures = []\n",
    "for i in tqdm(range(numGames)):\n",
    "    seperatedGamesFutures.append(seperateMoves(gamesNoMoves.iloc[i], movesFrame.iloc[i].split(\" \")))\n",
    "\n",
    "seperatedGamesList = []\n",
    "for i in tqdm(range(numGames)):\n",
    "    seperatedGamesList.append((await asyncio.gather(seperatedGamesFutures[i]))[0])\n",
    "print(type(seperatedGamesList))"
   ]
  }
 ],
 "metadata": {
  "kernelspec": {
   "display_name": "Python 3.10.2 ('.venv': poetry)",
   "language": "python",
   "name": "python3"
  },
  "language_info": {
   "codemirror_mode": {
    "name": "ipython",
    "version": 3
   },
   "file_extension": ".py",
   "mimetype": "text/x-python",
   "name": "python",
   "nbconvert_exporter": "python",
   "pygments_lexer": "ipython3",
   "version": "3.10.2"
  },
  "orig_nbformat": 4,
  "vscode": {
   "interpreter": {
    "hash": "1c2587107377d4a05f1e7bb86042c2973b2972203ac39b51f517e42d400f081f"
   }
  }
 },
 "nbformat": 4,
 "nbformat_minor": 2
}
