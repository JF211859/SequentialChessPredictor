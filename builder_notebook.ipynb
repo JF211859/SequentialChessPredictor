{
 "cells": [
  {
   "attachments": {},
   "cell_type": "markdown",
   "metadata": {},
   "source": [
    "## Imports"
   ]
  },
  {
   "cell_type": "code",
   "execution_count": 20,
   "metadata": {},
   "outputs": [],
   "source": [
    "import numpy as np \n",
    "import polars\n",
    "import os\n",
    "from tqdm import tqdm\n",
    "from time import sleep\n",
    "import asyncio\n",
    "import chess\n",
    "from concurrent.futures import ThreadPoolExecutor, ProcessPoolExecutor\n",
    "from threading import active_count"
   ]
  },
  {
   "attachments": {},
   "cell_type": "markdown",
   "metadata": {},
   "source": [
    "## Downloading the dataset"
   ]
  },
  {
   "cell_type": "code",
   "execution_count": 21,
   "metadata": {},
   "outputs": [
    {
     "name": "stdout",
     "output_type": "stream",
     "text": [
      "chess.zip: Skipping, found more recently modified local copy (use --force to force download)\n"
     ]
    }
   ],
   "source": [
    "!kaggle datasets download -d datasnaek/chess"
   ]
  },
  {
   "cell_type": "code",
   "execution_count": 22,
   "metadata": {},
   "outputs": [],
   "source": [
    "!unzip -qf chess.zip"
   ]
  },
  {
   "attachments": {},
   "cell_type": "markdown",
   "metadata": {},
   "source": [
    "## Reading in the dataset"
   ]
  },
  {
   "cell_type": "code",
   "execution_count": 23,
   "metadata": {},
   "outputs": [],
   "source": [
    "games = polars.read_csv(\"games.csv\", columns=[\"moves\", \"white_rating\", \"black_rating\"])"
   ]
  },
  {
   "cell_type": "code",
   "execution_count": 24,
   "metadata": {},
   "outputs": [
    {
     "name": "stdout",
     "output_type": "stream",
     "text": [
      "shape: (5, 3)\n",
      "┌──────────────┬──────────────┬─────────────────────────────────────┐\n",
      "│ white_rating ┆ black_rating ┆ moves                               │\n",
      "│ ---          ┆ ---          ┆ ---                                 │\n",
      "│ i64          ┆ i64          ┆ str                                 │\n",
      "╞══════════════╪══════════════╪═════════════════════════════════════╡\n",
      "│ 1500         ┆ 1191         ┆ d4 d5 c4 c6 cxd5 e6 dxe6 fxe6 Nf... │\n",
      "├╌╌╌╌╌╌╌╌╌╌╌╌╌╌┼╌╌╌╌╌╌╌╌╌╌╌╌╌╌┼╌╌╌╌╌╌╌╌╌╌╌╌╌╌╌╌╌╌╌╌╌╌╌╌╌╌╌╌╌╌╌╌╌╌╌╌╌┤\n",
      "│ 1322         ┆ 1261         ┆ d4 Nc6 e4 e5 f4 f6 dxe5 fxe5 fxe... │\n",
      "├╌╌╌╌╌╌╌╌╌╌╌╌╌╌┼╌╌╌╌╌╌╌╌╌╌╌╌╌╌┼╌╌╌╌╌╌╌╌╌╌╌╌╌╌╌╌╌╌╌╌╌╌╌╌╌╌╌╌╌╌╌╌╌╌╌╌╌┤\n",
      "│ 1496         ┆ 1500         ┆ e4 e5 d3 d6 Be3 c6 Be2 b5 Nd2 a5... │\n",
      "├╌╌╌╌╌╌╌╌╌╌╌╌╌╌┼╌╌╌╌╌╌╌╌╌╌╌╌╌╌┼╌╌╌╌╌╌╌╌╌╌╌╌╌╌╌╌╌╌╌╌╌╌╌╌╌╌╌╌╌╌╌╌╌╌╌╌╌┤\n",
      "│ 1439         ┆ 1454         ┆ d4 d5 Nf3 Bf5 Nc3 Nf6 Bf4 Ng4 e3... │\n",
      "├╌╌╌╌╌╌╌╌╌╌╌╌╌╌┼╌╌╌╌╌╌╌╌╌╌╌╌╌╌┼╌╌╌╌╌╌╌╌╌╌╌╌╌╌╌╌╌╌╌╌╌╌╌╌╌╌╌╌╌╌╌╌╌╌╌╌╌┤\n",
      "│ 1523         ┆ 1469         ┆ e4 e5 Nf3 d6 d4 Nc6 d5 Nb4 a3 Na... │\n",
      "└──────────────┴──────────────┴─────────────────────────────────────┘\n"
     ]
    }
   ],
   "source": [
    "print(games.head())"
   ]
  },
  {
   "attachments": {},
   "cell_type": "markdown",
   "metadata": {},
   "source": [
    "## Seperate games into individual moves"
   ]
  },
  {
   "cell_type": "code",
   "execution_count": 25,
   "metadata": {},
   "outputs": [],
   "source": [
    "moves2DArray = [game.split() for game in list(games.get_column(\"moves\"))]\n",
    "moves = [move for game in moves2DArray for move in game] # moves is a list where each \n",
    "lengthOfGames = [len(game) for game in moves2DArray]\n",
    "gamesNoMoves = games.drop(\"moves\")\n",
    "dataFrames = [\n",
    "    polars.DataFrame([gamesNoMoves.row(i)]*lengthOfGame, orient=\"row\") \n",
    "    for i,lengthOfGame in enumerate(lengthOfGames)\n",
    "]\n",
    "multipleGamesNoMoves = polars.concat(dataFrames)"
   ]
  },
  {
   "cell_type": "code",
   "execution_count": 26,
   "metadata": {},
   "outputs": [],
   "source": [
    "clean = multipleGamesNoMoves\n",
    "clean = clean.with_column(polars.Series(\"moves\", moves, dtype='str'))\n",
    "clean.columns = [\"white_rating\", \"black_rating\", \"moves\"]"
   ]
  },
  {
   "cell_type": "code",
   "execution_count": 27,
   "metadata": {},
   "outputs": [],
   "source": [
    "clean.write_csv(\"clean.csv\")"
   ]
  },
  {
   "cell_type": "code",
   "execution_count": 28,
   "metadata": {},
   "outputs": [],
   "source": [
    "clean = polars.read_csv(\"clean.csv\")"
   ]
  },
  {
   "cell_type": "code",
   "execution_count": 29,
   "metadata": {},
   "outputs": [
    {
     "data": {
      "text/html": [
       "<div>\n",
       "<style scoped>\n",
       "    .dataframe tbody tr th:only-of-type {\n",
       "        vertical-align: middle;\n",
       "    }\n",
       "\n",
       "    .dataframe tbody tr th {\n",
       "        vertical-align: top;\n",
       "    }\n",
       "\n",
       "    .dataframe thead th {\n",
       "        text-align: right;\n",
       "    }\n",
       "\n",
       "    .dataframe td {\n",
       "        white-space: pre;\n",
       "    }\n",
       "\n",
       "    .dataframe td {\n",
       "        padding-top: 0;\n",
       "    }\n",
       "\n",
       "    .dataframe td {\n",
       "        padding-bottom: 0;\n",
       "    }\n",
       "</style>\n",
       "<table border=\"1\" class=\"dataframe\">\n",
       "<small>shape: (5, 3)</small>\n",
       "<thead>\n",
       "<tr>\n",
       "<th>\n",
       "white_rating\n",
       "</th>\n",
       "<th>\n",
       "black_rating\n",
       "</th>\n",
       "<th>\n",
       "moves\n",
       "</th>\n",
       "</tr>\n",
       "<tr>\n",
       "<td>\n",
       "i64\n",
       "</td>\n",
       "<td>\n",
       "i64\n",
       "</td>\n",
       "<td>\n",
       "str\n",
       "</td>\n",
       "</tr>\n",
       "</thead>\n",
       "<tbody>\n",
       "<tr>\n",
       "<td>\n",
       "1500\n",
       "</td>\n",
       "<td>\n",
       "1191\n",
       "</td>\n",
       "<td>\n",
       "&quot;d4&quot;\n",
       "</td>\n",
       "</tr>\n",
       "<tr>\n",
       "<td>\n",
       "1500\n",
       "</td>\n",
       "<td>\n",
       "1191\n",
       "</td>\n",
       "<td>\n",
       "&quot;d5&quot;\n",
       "</td>\n",
       "</tr>\n",
       "<tr>\n",
       "<td>\n",
       "1500\n",
       "</td>\n",
       "<td>\n",
       "1191\n",
       "</td>\n",
       "<td>\n",
       "&quot;c4&quot;\n",
       "</td>\n",
       "</tr>\n",
       "<tr>\n",
       "<td>\n",
       "1500\n",
       "</td>\n",
       "<td>\n",
       "1191\n",
       "</td>\n",
       "<td>\n",
       "&quot;c6&quot;\n",
       "</td>\n",
       "</tr>\n",
       "<tr>\n",
       "<td>\n",
       "1500\n",
       "</td>\n",
       "<td>\n",
       "1191\n",
       "</td>\n",
       "<td>\n",
       "&quot;cxd5&quot;\n",
       "</td>\n",
       "</tr>\n",
       "</tbody>\n",
       "</table>\n",
       "</div>"
      ],
      "text/plain": [
       "shape: (5, 3)\n",
       "┌──────────────┬──────────────┬───────┐\n",
       "│ white_rating ┆ black_rating ┆ moves │\n",
       "│ ---          ┆ ---          ┆ ---   │\n",
       "│ i64          ┆ i64          ┆ str   │\n",
       "╞══════════════╪══════════════╪═══════╡\n",
       "│ 1500         ┆ 1191         ┆ d4    │\n",
       "├╌╌╌╌╌╌╌╌╌╌╌╌╌╌┼╌╌╌╌╌╌╌╌╌╌╌╌╌╌┼╌╌╌╌╌╌╌┤\n",
       "│ 1500         ┆ 1191         ┆ d5    │\n",
       "├╌╌╌╌╌╌╌╌╌╌╌╌╌╌┼╌╌╌╌╌╌╌╌╌╌╌╌╌╌┼╌╌╌╌╌╌╌┤\n",
       "│ 1500         ┆ 1191         ┆ c4    │\n",
       "├╌╌╌╌╌╌╌╌╌╌╌╌╌╌┼╌╌╌╌╌╌╌╌╌╌╌╌╌╌┼╌╌╌╌╌╌╌┤\n",
       "│ 1500         ┆ 1191         ┆ c6    │\n",
       "├╌╌╌╌╌╌╌╌╌╌╌╌╌╌┼╌╌╌╌╌╌╌╌╌╌╌╌╌╌┼╌╌╌╌╌╌╌┤\n",
       "│ 1500         ┆ 1191         ┆ cxd5  │\n",
       "└──────────────┴──────────────┴───────┘"
      ]
     },
     "execution_count": 29,
     "metadata": {},
     "output_type": "execute_result"
    }
   ],
   "source": [
    "clean.head()"
   ]
  },
  {
   "attachments": {},
   "cell_type": "markdown",
   "metadata": {},
   "source": [
    "## Generating FEN strings from previous moves played"
   ]
  },
  {
   "cell_type": "code",
   "execution_count": 30,
   "metadata": {},
   "outputs": [],
   "source": [
    "class Chunk:\n",
    "\n",
    "    def __init__(self, index : int, dataFrame : polars.DataFrame, idxOfGames : list[int]):\n",
    "        self.index = index\n",
    "        self.dataFrame = dataFrame\n",
    "        self.idxOfGames = idxOfGames\n",
    "    \n",
    "    def __repr__(self):\n",
    "        return str(self.dataFrame)"
   ]
  },
  {
   "cell_type": "code",
   "execution_count": 31,
   "metadata": {},
   "outputs": [],
   "source": [
    "def chunkateData(df : polars.DataFrame, numOfGamesPerChunk : int, startingIndexOfGames : list[int]) -> list[Chunk]:\n",
    "    startingIndexOfGames.insert(0, 0)\n",
    "    startingIndexOfChunks = startingIndexOfGames[0::numOfGamesPerChunk]\n",
    "    startingIndexOfChunks.append(df.height)\n",
    "    chunks = []\n",
    "    for i in range(len(startingIndexOfChunks)-1):\n",
    "        chunks.append(\n",
    "            Chunk(\n",
    "                index=i,\n",
    "                dataFrame=df[startingIndexOfChunks[i]:startingIndexOfChunks[i+1]],\n",
    "                idxOfGames=[\n",
    "                    startingIdx - startingIndexOfGames[i*numOfGamesPerChunk] \n",
    "                    for startingIdx in startingIndexOfGames[i*numOfGamesPerChunk:(i+1)*numOfGamesPerChunk]\n",
    "                ],\n",
    "            )\n",
    "        )\n",
    "    return chunks"
   ]
  },
  {
   "cell_type": "code",
   "execution_count": 32,
   "metadata": {},
   "outputs": [],
   "source": [
    "def concatData(chunks : list[Chunk]) -> polars.DataFrame:\n",
    "\n",
    "    chunks.sort(key=lambda x: x.index)\n",
    "\n",
    "    return polars.concat([chunk.dataFrame for chunk in chunks])"
   ]
  },
  {
   "cell_type": "code",
   "execution_count": 33,
   "metadata": {},
   "outputs": [],
   "source": [
    "def addFenToChunk(chunk: Chunk) -> None:\n",
    "    \"\"\"\n",
    "    Adds a Fen column to a chunk.\n",
    "    \"\"\"\n",
    "    fens = []\n",
    "    idxOfGames = chunk.idxOfGames\n",
    "    idxOfGames.append(chunk.dataFrame.height)\n",
    "    for i in range(len(chunk.idxOfGames) - 1):\n",
    "        board = chess.Board()\n",
    "        moves = chunk.dataFrame[idxOfGames[i]:idxOfGames[i+1]][\"moves\"]\n",
    "        for SANmove in moves:\n",
    "            fens.append(board.fen())\n",
    "            board.push_san(SANmove)\n",
    "    \n",
    "    chunk.dataFrame = chunk.dataFrame.with_column(polars.Series(\"fen\", fens, dtype='str'))"
   ]
  },
  {
   "cell_type": "code",
   "execution_count": 35,
   "metadata": {},
   "outputs": [
    {
     "name": "stderr",
     "output_type": "stream",
     "text": [
      "100%|██████████| 21/21 [08:22<00:00, 23.94s/it]\n"
     ]
    }
   ],
   "source": [
    "chunks = chunkateData(\n",
    "    df=clean,\n",
    "    numOfGamesPerChunk=1000,\n",
    "    startingIndexOfGames=list(np.cumsum(lengthOfGames)),\n",
    ")\n",
    "\n",
    "for chunk in tqdm(chunks):\n",
    "    addFenToChunk(chunk)\n",
    "\n",
    "cleanWithFen = concatData(chunks)"
   ]
  },
  {
   "cell_type": "code",
   "execution_count": 36,
   "metadata": {},
   "outputs": [],
   "source": [
    "cleanWithFen.write_csv(\"cleanWithFen.csv\")"
   ]
  },
  {
   "cell_type": "code",
   "execution_count": 37,
   "metadata": {},
   "outputs": [],
   "source": [
    "cleanWithFen = polars.read_csv(\"cleanWithFen.csv\")"
   ]
  },
  {
   "cell_type": "code",
   "execution_count": 38,
   "metadata": {},
   "outputs": [
    {
     "data": {
      "text/html": [
       "<div>\n",
       "<style scoped>\n",
       "    .dataframe tbody tr th:only-of-type {\n",
       "        vertical-align: middle;\n",
       "    }\n",
       "\n",
       "    .dataframe tbody tr th {\n",
       "        vertical-align: top;\n",
       "    }\n",
       "\n",
       "    .dataframe thead th {\n",
       "        text-align: right;\n",
       "    }\n",
       "\n",
       "    .dataframe td {\n",
       "        white-space: pre;\n",
       "    }\n",
       "\n",
       "    .dataframe td {\n",
       "        padding-top: 0;\n",
       "    }\n",
       "\n",
       "    .dataframe td {\n",
       "        padding-bottom: 0;\n",
       "    }\n",
       "</style>\n",
       "<table border=\"1\" class=\"dataframe\">\n",
       "<small>shape: (5, 4)</small>\n",
       "<thead>\n",
       "<tr>\n",
       "<th>\n",
       "white_rating\n",
       "</th>\n",
       "<th>\n",
       "black_rating\n",
       "</th>\n",
       "<th>\n",
       "moves\n",
       "</th>\n",
       "<th>\n",
       "fen\n",
       "</th>\n",
       "</tr>\n",
       "<tr>\n",
       "<td>\n",
       "i64\n",
       "</td>\n",
       "<td>\n",
       "i64\n",
       "</td>\n",
       "<td>\n",
       "str\n",
       "</td>\n",
       "<td>\n",
       "str\n",
       "</td>\n",
       "</tr>\n",
       "</thead>\n",
       "<tbody>\n",
       "<tr>\n",
       "<td>\n",
       "1500\n",
       "</td>\n",
       "<td>\n",
       "1191\n",
       "</td>\n",
       "<td>\n",
       "&quot;d4&quot;\n",
       "</td>\n",
       "<td>\n",
       "&quot;rnbqkbnr/ppppp...\n",
       "</td>\n",
       "</tr>\n",
       "<tr>\n",
       "<td>\n",
       "1500\n",
       "</td>\n",
       "<td>\n",
       "1191\n",
       "</td>\n",
       "<td>\n",
       "&quot;d5&quot;\n",
       "</td>\n",
       "<td>\n",
       "&quot;rnbqkbnr/ppppp...\n",
       "</td>\n",
       "</tr>\n",
       "<tr>\n",
       "<td>\n",
       "1500\n",
       "</td>\n",
       "<td>\n",
       "1191\n",
       "</td>\n",
       "<td>\n",
       "&quot;c4&quot;\n",
       "</td>\n",
       "<td>\n",
       "&quot;rnbqkbnr/ppp1p...\n",
       "</td>\n",
       "</tr>\n",
       "<tr>\n",
       "<td>\n",
       "1500\n",
       "</td>\n",
       "<td>\n",
       "1191\n",
       "</td>\n",
       "<td>\n",
       "&quot;c6&quot;\n",
       "</td>\n",
       "<td>\n",
       "&quot;rnbqkbnr/ppp1p...\n",
       "</td>\n",
       "</tr>\n",
       "<tr>\n",
       "<td>\n",
       "1500\n",
       "</td>\n",
       "<td>\n",
       "1191\n",
       "</td>\n",
       "<td>\n",
       "&quot;cxd5&quot;\n",
       "</td>\n",
       "<td>\n",
       "&quot;rnbqkbnr/pp2pp...\n",
       "</td>\n",
       "</tr>\n",
       "</tbody>\n",
       "</table>\n",
       "</div>"
      ],
      "text/plain": [
       "shape: (5, 4)\n",
       "┌──────────────┬──────────────┬───────┬─────────────────────────────────────┐\n",
       "│ white_rating ┆ black_rating ┆ moves ┆ fen                                 │\n",
       "│ ---          ┆ ---          ┆ ---   ┆ ---                                 │\n",
       "│ i64          ┆ i64          ┆ str   ┆ str                                 │\n",
       "╞══════════════╪══════════════╪═══════╪═════════════════════════════════════╡\n",
       "│ 1500         ┆ 1191         ┆ d4    ┆ rnbqkbnr/pppppppp/8/8/8/8/PPPPPP... │\n",
       "├╌╌╌╌╌╌╌╌╌╌╌╌╌╌┼╌╌╌╌╌╌╌╌╌╌╌╌╌╌┼╌╌╌╌╌╌╌┼╌╌╌╌╌╌╌╌╌╌╌╌╌╌╌╌╌╌╌╌╌╌╌╌╌╌╌╌╌╌╌╌╌╌╌╌╌┤\n",
       "│ 1500         ┆ 1191         ┆ d5    ┆ rnbqkbnr/pppppppp/8/8/3P4/8/PPP1... │\n",
       "├╌╌╌╌╌╌╌╌╌╌╌╌╌╌┼╌╌╌╌╌╌╌╌╌╌╌╌╌╌┼╌╌╌╌╌╌╌┼╌╌╌╌╌╌╌╌╌╌╌╌╌╌╌╌╌╌╌╌╌╌╌╌╌╌╌╌╌╌╌╌╌╌╌╌╌┤\n",
       "│ 1500         ┆ 1191         ┆ c4    ┆ rnbqkbnr/ppp1pppp/8/3p4/3P4/8/PP... │\n",
       "├╌╌╌╌╌╌╌╌╌╌╌╌╌╌┼╌╌╌╌╌╌╌╌╌╌╌╌╌╌┼╌╌╌╌╌╌╌┼╌╌╌╌╌╌╌╌╌╌╌╌╌╌╌╌╌╌╌╌╌╌╌╌╌╌╌╌╌╌╌╌╌╌╌╌╌┤\n",
       "│ 1500         ┆ 1191         ┆ c6    ┆ rnbqkbnr/ppp1pppp/8/3p4/2PP4/8/P... │\n",
       "├╌╌╌╌╌╌╌╌╌╌╌╌╌╌┼╌╌╌╌╌╌╌╌╌╌╌╌╌╌┼╌╌╌╌╌╌╌┼╌╌╌╌╌╌╌╌╌╌╌╌╌╌╌╌╌╌╌╌╌╌╌╌╌╌╌╌╌╌╌╌╌╌╌╌╌┤\n",
       "│ 1500         ┆ 1191         ┆ cxd5  ┆ rnbqkbnr/pp2pppp/2p5/3p4/2PP4/8/... │\n",
       "└──────────────┴──────────────┴───────┴─────────────────────────────────────┘"
      ]
     },
     "execution_count": 38,
     "metadata": {},
     "output_type": "execute_result"
    }
   ],
   "source": [
    "cleanWithFen.head()"
   ]
  },
  {
   "cell_type": "code",
   "execution_count": 88,
   "metadata": {},
   "outputs": [],
   "source": [
    "def pieceFromMove(move : str) -> str:\n",
    "    if move[0] in {'R', 'N', 'B', 'Q', 'K', 'P'}:\n",
    "        return move[0]\n",
    "    else:\n",
    "        return 'P'"
   ]
  },
  {
   "cell_type": "code",
   "execution_count": 117,
   "metadata": {},
   "outputs": [],
   "source": [
    "def cleanFeatures(white_rating : int, black_rating : int, fen : str):\n",
    "    piece_symbols = ['R', 'N', 'B', 'Q', 'K', 'P']\n",
    "    piece_colors = [0, 1]\n",
    "    piece_arrays = np.zeros(shape=(12,8,8))\n",
    "    board = chess.Board(fen)\n",
    "    for i, piece_symbol in enumerate(piece_symbols):\n",
    "        for j, piece_color in enumerate(piece_colors):\n",
    "            squares = board.pieces(piece_type=chess.Piece.from_symbol(piece_symbol).piece_type, color=piece_color)\n",
    "            for square in squares:\n",
    "                piece_arrays[i + j*6, chess.square_rank(square), chess.square_file(square)] = 1\n",
    "    piece_arrays = piece_arrays.astype(np.int64)\n",
    "    features = np.insert(np.insert(piece_arrays.flatten(),0,black_rating),0,white_rating)\n",
    "    print(features.shape)\n",
    "    return features"
   ]
  },
  {
   "cell_type": "code",
   "execution_count": 144,
   "metadata": {},
   "outputs": [],
   "source": [
    "def cleanFeatures2(white_rating : int, black_rating : int, fen : str):\n",
    "    piece_arrays = np.zeros(shape=(8,8))\n",
    "    board = chess.Board(fen)\n",
    "    piece_to_int = {\n",
    "        'R' : 0,\n",
    "        'N' : 1,\n",
    "        'B' : 2,\n",
    "        'Q' : 3,\n",
    "        'K' : 4,\n",
    "        'P' : 5,\n",
    "        'r' : 6,\n",
    "        'n' : 7,\n",
    "        'b' : 8,\n",
    "        'q' : 9,\n",
    "        'k' : 10,\n",
    "        'p' : 11,\n",
    "    }\n",
    "    for square in chess.SQUARES:\n",
    "        if board.piece_at(square):\n",
    "            piece_arrays[chess.square_rank(square), chess.square_file(square)] = piece_to_int[board.piece_at(square).symbol()]\n",
    "    piece_arrays = piece_arrays.astype(np.int64)\n",
    "    features = np.insert(np.insert(piece_arrays.flatten(),0,black_rating),0,white_rating)\n",
    "    print(features.shape)\n",
    "    return features"
   ]
  },
  {
   "cell_type": "code",
   "execution_count": 145,
   "metadata": {},
   "outputs": [
    {
     "name": "stdout",
     "output_type": "stream",
     "text": [
      "(66,)\n",
      "[1500 1191    0    1    2    3    4    2    1    0    5    5    5    5\n",
      "    5    5    5    5    0    0    0    0    0    0    0    0    0    0\n",
      "    0    0    0    0    0    0    0    0    0    0    0    0    0    0\n",
      "    0    0    0    0    0    0    0    0   11   11   11   11   11   11\n",
      "   11   11    6    7    8    9   10    8    7    6]\n"
     ]
    }
   ],
   "source": [
    "print(cleanFeatures2(cleanWithFen[0, 0], cleanWithFen[0, 1], cleanWithFen[0, 3]))"
   ]
  }
 ],
 "metadata": {
  "kernelspec": {
   "display_name": "Python 3.10.2 ('.venv': poetry)",
   "language": "python",
   "name": "python3"
  },
  "language_info": {
   "codemirror_mode": {
    "name": "ipython",
    "version": 3
   },
   "file_extension": ".py",
   "mimetype": "text/x-python",
   "name": "python",
   "nbconvert_exporter": "python",
   "pygments_lexer": "ipython3",
   "version": "3.10.2"
  },
  "orig_nbformat": 4,
  "vscode": {
   "interpreter": {
    "hash": "1c2587107377d4a05f1e7bb86042c2973b2972203ac39b51f517e42d400f081f"
   }
  }
 },
 "nbformat": 4,
 "nbformat_minor": 2
}
