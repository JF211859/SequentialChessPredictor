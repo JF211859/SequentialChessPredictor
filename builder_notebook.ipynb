{
 "cells": [
  {
   "cell_type": "code",
   "execution_count": 1,
   "metadata": {},
   "outputs": [],
   "source": [
    "import numpy as np \n",
    "import pandas as pd # move to polaris\n",
    "import os\n",
    "from tqdm import tqdm\n",
    "from time import sleep\n",
    "import asyncio\n",
    "import chess"
   ]
  },
  {
   "cell_type": "code",
   "execution_count": 28,
   "metadata": {},
   "outputs": [
    {
     "name": "stdout",
     "output_type": "stream",
     "text": [
      "chess.zip: Skipping, found more recently modified local copy (use --force to force download)\n"
     ]
    }
   ],
   "source": [
    "!kaggle datasets download -d datasnaek/chess"
   ]
  },
  {
   "cell_type": "code",
   "execution_count": 29,
   "metadata": {},
   "outputs": [],
   "source": [
    "!unzip -qf chess.zip"
   ]
  },
  {
   "cell_type": "code",
   "execution_count": 2,
   "metadata": {},
   "outputs": [],
   "source": [
    "games = pd.read_csv(\"games.csv\")"
   ]
  },
  {
   "cell_type": "code",
   "execution_count": 32,
   "metadata": {},
   "outputs": [],
   "source": [
    "async def seperateMoves1(game, moves):\n",
    "    previousMovesList = []\n",
    "    previousMoves = []\n",
    "    targets = []\n",
    "    numMoves = len(moves)\n",
    "    for j in range(numMoves):\n",
    "        previousMovesList.append(previousMoves.copy())\n",
    "        previousMoves.append(moves[j])\n",
    "        targets.append(moves[j])\n",
    "    multipleGamesNoMoves = pd.concat([pd.DataFrame(game)]*numMoves, ignore_index = True) #might get rid of pd.dataframe\n",
    "    return previousMovesList, targets, multipleGamesNoMoves"
   ]
  },
  {
   "cell_type": "code",
   "execution_count": 34,
   "metadata": {},
   "outputs": [
    {
     "name": "stderr",
     "output_type": "stream",
     "text": [
      "/tmp/ipykernel_5232/1646654467.py:5: RuntimeWarning: coroutine 'seperateMoves1' was never awaited\n",
      "  seperatedGamesFutures = []\n",
      "RuntimeWarning: Enable tracemalloc to get the object allocation traceback\n",
      "100%|██████████| 20058/20058 [00:17<00:00, 1161.89it/s]\n",
      "100%|██████████| 20058/20058 [27:00<00:00, 12.38it/s]  \n"
     ]
    }
   ],
   "source": [
    "movesFrame = games.moves\n",
    "gamesNoMoves = games.drop(\"moves\", axis=1)\n",
    "numGames = len(gamesNoMoves)\n",
    "seperatedNoMoves = pd.DataFrame(columns=gamesNoMoves.columns)\n",
    "seperatedGamesFutures = []\n",
    "for i in tqdm(range(numGames)):\n",
    "    seperatedGamesFutures.append(seperateMoves1(gamesNoMoves.iloc[[i]], movesFrame[i].split(\" \")))\n",
    "\n",
    "previousMovesListList = []\n",
    "targetsList = []\n",
    "multipleGamesNoMovesList = []\n",
    "for i in tqdm(range(numGames)):\n",
    "    previousMovesList, targets, multipleGamesNoMoves = (await asyncio.gather(seperatedGamesFutures[i]))[0]\n",
    "    previousMovesListList.append(previousMovesList)\n",
    "    targetsList.append(targets)\n",
    "    multipleGamesNoMovesList.append(multipleGamesNoMoves)\n",
    "previousMovesList = sum(previousMovesListList, [])\n",
    "targets = sum(targetsList, [])\n",
    "multipleGamesNoMoves = pd.concat(multipleGamesNoMovesList, ignore_index=True)"
   ]
  },
  {
   "cell_type": "code",
   "execution_count": 35,
   "metadata": {},
   "outputs": [],
   "source": [
    "clean = multipleGamesNoMoves.loc[:,[\"white_rating\", \"black_rating\"]]\n",
    "clean[\"target\"] = targets\n",
    "clean[\"previousMoves\"] = previousMovesList"
   ]
  },
  {
   "cell_type": "code",
   "execution_count": 36,
   "metadata": {},
   "outputs": [],
   "source": [
    "clean.to_csv(\"clean.csv\")"
   ]
  },
  {
   "cell_type": "code",
   "execution_count": 3,
   "metadata": {},
   "outputs": [],
   "source": [
    "clean = pd.read_csv(\"clean.csv\")"
   ]
  },
  {
   "cell_type": "code",
   "execution_count": 4,
   "metadata": {},
   "outputs": [
    {
     "data": {
      "text/html": [
       "<div>\n",
       "<style scoped>\n",
       "    .dataframe tbody tr th:only-of-type {\n",
       "        vertical-align: middle;\n",
       "    }\n",
       "\n",
       "    .dataframe tbody tr th {\n",
       "        vertical-align: top;\n",
       "    }\n",
       "\n",
       "    .dataframe thead th {\n",
       "        text-align: right;\n",
       "    }\n",
       "</style>\n",
       "<table border=\"1\" class=\"dataframe\">\n",
       "  <thead>\n",
       "    <tr style=\"text-align: right;\">\n",
       "      <th></th>\n",
       "      <th>Unnamed: 0</th>\n",
       "      <th>white_rating</th>\n",
       "      <th>black_rating</th>\n",
       "      <th>target</th>\n",
       "      <th>previousMoves</th>\n",
       "    </tr>\n",
       "  </thead>\n",
       "  <tbody>\n",
       "    <tr>\n",
       "      <th>0</th>\n",
       "      <td>0</td>\n",
       "      <td>1500</td>\n",
       "      <td>1191</td>\n",
       "      <td>d4</td>\n",
       "      <td>[]</td>\n",
       "    </tr>\n",
       "    <tr>\n",
       "      <th>1</th>\n",
       "      <td>1</td>\n",
       "      <td>1500</td>\n",
       "      <td>1191</td>\n",
       "      <td>d5</td>\n",
       "      <td>['d4']</td>\n",
       "    </tr>\n",
       "    <tr>\n",
       "      <th>2</th>\n",
       "      <td>2</td>\n",
       "      <td>1500</td>\n",
       "      <td>1191</td>\n",
       "      <td>c4</td>\n",
       "      <td>['d4', 'd5']</td>\n",
       "    </tr>\n",
       "    <tr>\n",
       "      <th>3</th>\n",
       "      <td>3</td>\n",
       "      <td>1500</td>\n",
       "      <td>1191</td>\n",
       "      <td>c6</td>\n",
       "      <td>['d4', 'd5', 'c4']</td>\n",
       "    </tr>\n",
       "    <tr>\n",
       "      <th>4</th>\n",
       "      <td>4</td>\n",
       "      <td>1500</td>\n",
       "      <td>1191</td>\n",
       "      <td>cxd5</td>\n",
       "      <td>['d4', 'd5', 'c4', 'c6']</td>\n",
       "    </tr>\n",
       "  </tbody>\n",
       "</table>\n",
       "</div>"
      ],
      "text/plain": [
       "   Unnamed: 0  white_rating  black_rating target             previousMoves\n",
       "0           0          1500          1191     d4                        []\n",
       "1           1          1500          1191     d5                    ['d4']\n",
       "2           2          1500          1191     c4              ['d4', 'd5']\n",
       "3           3          1500          1191     c6        ['d4', 'd5', 'c4']\n",
       "4           4          1500          1191   cxd5  ['d4', 'd5', 'c4', 'c6']"
      ]
     },
     "execution_count": 4,
     "metadata": {},
     "output_type": "execute_result"
    }
   ],
   "source": [
    "clean.head()"
   ]
  },
  {
   "cell_type": "code",
   "execution_count": 5,
   "metadata": {},
   "outputs": [
    {
     "data": {
      "text/html": [
       "<div>\n",
       "<style scoped>\n",
       "    .dataframe tbody tr th:only-of-type {\n",
       "        vertical-align: middle;\n",
       "    }\n",
       "\n",
       "    .dataframe tbody tr th {\n",
       "        vertical-align: top;\n",
       "    }\n",
       "\n",
       "    .dataframe thead th {\n",
       "        text-align: right;\n",
       "    }\n",
       "</style>\n",
       "<table border=\"1\" class=\"dataframe\">\n",
       "  <thead>\n",
       "    <tr style=\"text-align: right;\">\n",
       "      <th></th>\n",
       "      <th>Unnamed: 0</th>\n",
       "      <th>white_rating</th>\n",
       "      <th>black_rating</th>\n",
       "      <th>target</th>\n",
       "      <th>previousMoves</th>\n",
       "    </tr>\n",
       "  </thead>\n",
       "  <tbody>\n",
       "    <tr>\n",
       "      <th>0</th>\n",
       "      <td>0</td>\n",
       "      <td>1500</td>\n",
       "      <td>1191</td>\n",
       "      <td>d4</td>\n",
       "      <td>[]</td>\n",
       "    </tr>\n",
       "    <tr>\n",
       "      <th>1</th>\n",
       "      <td>1</td>\n",
       "      <td>1500</td>\n",
       "      <td>1191</td>\n",
       "      <td>d5</td>\n",
       "      <td>['d4']</td>\n",
       "    </tr>\n",
       "    <tr>\n",
       "      <th>2</th>\n",
       "      <td>2</td>\n",
       "      <td>1500</td>\n",
       "      <td>1191</td>\n",
       "      <td>c4</td>\n",
       "      <td>['d4', 'd5']</td>\n",
       "    </tr>\n",
       "    <tr>\n",
       "      <th>3</th>\n",
       "      <td>3</td>\n",
       "      <td>1500</td>\n",
       "      <td>1191</td>\n",
       "      <td>c6</td>\n",
       "      <td>['d4', 'd5', 'c4']</td>\n",
       "    </tr>\n",
       "    <tr>\n",
       "      <th>4</th>\n",
       "      <td>4</td>\n",
       "      <td>1500</td>\n",
       "      <td>1191</td>\n",
       "      <td>cxd5</td>\n",
       "      <td>['d4', 'd5', 'c4', 'c6']</td>\n",
       "    </tr>\n",
       "    <tr>\n",
       "      <th>5</th>\n",
       "      <td>5</td>\n",
       "      <td>1500</td>\n",
       "      <td>1191</td>\n",
       "      <td>e6</td>\n",
       "      <td>['d4', 'd5', 'c4', 'c6', 'cxd5']</td>\n",
       "    </tr>\n",
       "    <tr>\n",
       "      <th>6</th>\n",
       "      <td>6</td>\n",
       "      <td>1500</td>\n",
       "      <td>1191</td>\n",
       "      <td>dxe6</td>\n",
       "      <td>['d4', 'd5', 'c4', 'c6', 'cxd5', 'e6']</td>\n",
       "    </tr>\n",
       "    <tr>\n",
       "      <th>7</th>\n",
       "      <td>7</td>\n",
       "      <td>1500</td>\n",
       "      <td>1191</td>\n",
       "      <td>fxe6</td>\n",
       "      <td>['d4', 'd5', 'c4', 'c6', 'cxd5', 'e6', 'dxe6']</td>\n",
       "    </tr>\n",
       "    <tr>\n",
       "      <th>8</th>\n",
       "      <td>8</td>\n",
       "      <td>1500</td>\n",
       "      <td>1191</td>\n",
       "      <td>Nf3</td>\n",
       "      <td>['d4', 'd5', 'c4', 'c6', 'cxd5', 'e6', 'dxe6',...</td>\n",
       "    </tr>\n",
       "    <tr>\n",
       "      <th>9</th>\n",
       "      <td>9</td>\n",
       "      <td>1500</td>\n",
       "      <td>1191</td>\n",
       "      <td>Bb4+</td>\n",
       "      <td>['d4', 'd5', 'c4', 'c6', 'cxd5', 'e6', 'dxe6',...</td>\n",
       "    </tr>\n",
       "    <tr>\n",
       "      <th>10</th>\n",
       "      <td>10</td>\n",
       "      <td>1500</td>\n",
       "      <td>1191</td>\n",
       "      <td>Nc3</td>\n",
       "      <td>['d4', 'd5', 'c4', 'c6', 'cxd5', 'e6', 'dxe6',...</td>\n",
       "    </tr>\n",
       "    <tr>\n",
       "      <th>11</th>\n",
       "      <td>11</td>\n",
       "      <td>1500</td>\n",
       "      <td>1191</td>\n",
       "      <td>Ba5</td>\n",
       "      <td>['d4', 'd5', 'c4', 'c6', 'cxd5', 'e6', 'dxe6',...</td>\n",
       "    </tr>\n",
       "    <tr>\n",
       "      <th>12</th>\n",
       "      <td>12</td>\n",
       "      <td>1500</td>\n",
       "      <td>1191</td>\n",
       "      <td>Bf4</td>\n",
       "      <td>['d4', 'd5', 'c4', 'c6', 'cxd5', 'e6', 'dxe6',...</td>\n",
       "    </tr>\n",
       "    <tr>\n",
       "      <th>13</th>\n",
       "      <td>13</td>\n",
       "      <td>1322</td>\n",
       "      <td>1261</td>\n",
       "      <td>d4</td>\n",
       "      <td>[]</td>\n",
       "    </tr>\n",
       "  </tbody>\n",
       "</table>\n",
       "</div>"
      ],
      "text/plain": [
       "    Unnamed: 0  white_rating  black_rating target  \\\n",
       "0            0          1500          1191     d4   \n",
       "1            1          1500          1191     d5   \n",
       "2            2          1500          1191     c4   \n",
       "3            3          1500          1191     c6   \n",
       "4            4          1500          1191   cxd5   \n",
       "5            5          1500          1191     e6   \n",
       "6            6          1500          1191   dxe6   \n",
       "7            7          1500          1191   fxe6   \n",
       "8            8          1500          1191    Nf3   \n",
       "9            9          1500          1191   Bb4+   \n",
       "10          10          1500          1191    Nc3   \n",
       "11          11          1500          1191    Ba5   \n",
       "12          12          1500          1191    Bf4   \n",
       "13          13          1322          1261     d4   \n",
       "\n",
       "                                        previousMoves  \n",
       "0                                                  []  \n",
       "1                                              ['d4']  \n",
       "2                                        ['d4', 'd5']  \n",
       "3                                  ['d4', 'd5', 'c4']  \n",
       "4                            ['d4', 'd5', 'c4', 'c6']  \n",
       "5                    ['d4', 'd5', 'c4', 'c6', 'cxd5']  \n",
       "6              ['d4', 'd5', 'c4', 'c6', 'cxd5', 'e6']  \n",
       "7      ['d4', 'd5', 'c4', 'c6', 'cxd5', 'e6', 'dxe6']  \n",
       "8   ['d4', 'd5', 'c4', 'c6', 'cxd5', 'e6', 'dxe6',...  \n",
       "9   ['d4', 'd5', 'c4', 'c6', 'cxd5', 'e6', 'dxe6',...  \n",
       "10  ['d4', 'd5', 'c4', 'c6', 'cxd5', 'e6', 'dxe6',...  \n",
       "11  ['d4', 'd5', 'c4', 'c6', 'cxd5', 'e6', 'dxe6',...  \n",
       "12  ['d4', 'd5', 'c4', 'c6', 'cxd5', 'e6', 'dxe6',...  \n",
       "13                                                 []  "
      ]
     },
     "execution_count": 5,
     "metadata": {},
     "output_type": "execute_result"
    }
   ],
   "source": [
    "clean.iloc[range(14),:]"
   ]
  },
  {
   "cell_type": "code",
   "execution_count": 31,
   "metadata": {},
   "outputs": [],
   "source": [
    "lengthOfGames = []\n",
    "length = 0\n",
    "for moves in clean.loc[:,\"previousMoves\"]:\n",
    "    if moves == '[]':\n",
    "        lengthOfGames.append(length+1)\n",
    "        length = 0\n",
    "    else:\n",
    "        length += 1\n",
    "lengthOfGames.append(length+1)\n",
    "lengthOfGames = lengthOfGames[1:]"
   ]
  },
  {
   "cell_type": "code",
   "execution_count": 30,
   "metadata": {},
   "outputs": [
    {
     "name": "stderr",
     "output_type": "stream",
     "text": [
      "100%|██████████| 20058/20058 [07:10<00:00, 46.61it/s] \n"
     ]
    }
   ],
   "source": [
    "startingIndexOfGame = 0\n",
    "fens = []\n",
    "for length in tqdm(lengthOfGames):\n",
    "    board = chess.Board()\n",
    "    moves = clean.iloc[startingIndexOfGame:startingIndexOfGame + length][\"target\"]\n",
    "    for SANmove in moves:\n",
    "        PGNmove = board.parse_san(SANmove)\n",
    "        board.push(PGNmove)\n",
    "        fens.append(board.fen())\n",
    "    startingIndexOfGame += length"
   ]
  },
  {
   "cell_type": "code",
   "execution_count": 32,
   "metadata": {},
   "outputs": [],
   "source": [
    "clean[\"fen\"] = fens"
   ]
  },
  {
   "cell_type": "code",
   "execution_count": 33,
   "metadata": {},
   "outputs": [],
   "source": [
    "clean.to_csv(\"cleanWithFen.csv\")"
   ]
  },
  {
   "cell_type": "code",
   "execution_count": 34,
   "metadata": {},
   "outputs": [],
   "source": [
    "cleanWithFen = pd.read_csv(\"cleanWithFen.csv\")"
   ]
  },
  {
   "cell_type": "code",
   "execution_count": 35,
   "metadata": {},
   "outputs": [
    {
     "data": {
      "text/html": [
       "<div>\n",
       "<style scoped>\n",
       "    .dataframe tbody tr th:only-of-type {\n",
       "        vertical-align: middle;\n",
       "    }\n",
       "\n",
       "    .dataframe tbody tr th {\n",
       "        vertical-align: top;\n",
       "    }\n",
       "\n",
       "    .dataframe thead th {\n",
       "        text-align: right;\n",
       "    }\n",
       "</style>\n",
       "<table border=\"1\" class=\"dataframe\">\n",
       "  <thead>\n",
       "    <tr style=\"text-align: right;\">\n",
       "      <th></th>\n",
       "      <th>Unnamed: 0.1</th>\n",
       "      <th>Unnamed: 0</th>\n",
       "      <th>white_rating</th>\n",
       "      <th>black_rating</th>\n",
       "      <th>target</th>\n",
       "      <th>previousMoves</th>\n",
       "      <th>fen</th>\n",
       "    </tr>\n",
       "  </thead>\n",
       "  <tbody>\n",
       "    <tr>\n",
       "      <th>0</th>\n",
       "      <td>0</td>\n",
       "      <td>0</td>\n",
       "      <td>1500</td>\n",
       "      <td>1191</td>\n",
       "      <td>d4</td>\n",
       "      <td>[]</td>\n",
       "      <td>rnbqkbnr/pppppppp/8/8/3P4/8/PPP1PPPP/RNBQKBNR ...</td>\n",
       "    </tr>\n",
       "    <tr>\n",
       "      <th>1</th>\n",
       "      <td>1</td>\n",
       "      <td>1</td>\n",
       "      <td>1500</td>\n",
       "      <td>1191</td>\n",
       "      <td>d5</td>\n",
       "      <td>['d4']</td>\n",
       "      <td>rnbqkbnr/ppp1pppp/8/3p4/3P4/8/PPP1PPPP/RNBQKBN...</td>\n",
       "    </tr>\n",
       "    <tr>\n",
       "      <th>2</th>\n",
       "      <td>2</td>\n",
       "      <td>2</td>\n",
       "      <td>1500</td>\n",
       "      <td>1191</td>\n",
       "      <td>c4</td>\n",
       "      <td>['d4', 'd5']</td>\n",
       "      <td>rnbqkbnr/ppp1pppp/8/3p4/2PP4/8/PP2PPPP/RNBQKBN...</td>\n",
       "    </tr>\n",
       "    <tr>\n",
       "      <th>3</th>\n",
       "      <td>3</td>\n",
       "      <td>3</td>\n",
       "      <td>1500</td>\n",
       "      <td>1191</td>\n",
       "      <td>c6</td>\n",
       "      <td>['d4', 'd5', 'c4']</td>\n",
       "      <td>rnbqkbnr/pp2pppp/2p5/3p4/2PP4/8/PP2PPPP/RNBQKB...</td>\n",
       "    </tr>\n",
       "    <tr>\n",
       "      <th>4</th>\n",
       "      <td>4</td>\n",
       "      <td>4</td>\n",
       "      <td>1500</td>\n",
       "      <td>1191</td>\n",
       "      <td>cxd5</td>\n",
       "      <td>['d4', 'd5', 'c4', 'c6']</td>\n",
       "      <td>rnbqkbnr/pp2pppp/2p5/3P4/3P4/8/PP2PPPP/RNBQKBN...</td>\n",
       "    </tr>\n",
       "  </tbody>\n",
       "</table>\n",
       "</div>"
      ],
      "text/plain": [
       "   Unnamed: 0.1  Unnamed: 0  white_rating  black_rating target  \\\n",
       "0             0           0          1500          1191     d4   \n",
       "1             1           1          1500          1191     d5   \n",
       "2             2           2          1500          1191     c4   \n",
       "3             3           3          1500          1191     c6   \n",
       "4             4           4          1500          1191   cxd5   \n",
       "\n",
       "              previousMoves                                                fen  \n",
       "0                        []  rnbqkbnr/pppppppp/8/8/3P4/8/PPP1PPPP/RNBQKBNR ...  \n",
       "1                    ['d4']  rnbqkbnr/ppp1pppp/8/3p4/3P4/8/PPP1PPPP/RNBQKBN...  \n",
       "2              ['d4', 'd5']  rnbqkbnr/ppp1pppp/8/3p4/2PP4/8/PP2PPPP/RNBQKBN...  \n",
       "3        ['d4', 'd5', 'c4']  rnbqkbnr/pp2pppp/2p5/3p4/2PP4/8/PP2PPPP/RNBQKB...  \n",
       "4  ['d4', 'd5', 'c4', 'c6']  rnbqkbnr/pp2pppp/2p5/3P4/3P4/8/PP2PPPP/RNBQKBN...  "
      ]
     },
     "execution_count": 35,
     "metadata": {},
     "output_type": "execute_result"
    }
   ],
   "source": [
    "cleanWithFen.head()"
   ]
  }
 ],
 "metadata": {
  "kernelspec": {
   "display_name": "Python 3.10.2 ('.venv': poetry)",
   "language": "python",
   "name": "python3"
  },
  "language_info": {
   "codemirror_mode": {
    "name": "ipython",
    "version": 3
   },
   "file_extension": ".py",
   "mimetype": "text/x-python",
   "name": "python",
   "nbconvert_exporter": "python",
   "pygments_lexer": "ipython3",
   "version": "3.10.2"
  },
  "orig_nbformat": 4,
  "vscode": {
   "interpreter": {
    "hash": "1c2587107377d4a05f1e7bb86042c2973b2972203ac39b51f517e42d400f081f"
   }
  }
 },
 "nbformat": 4,
 "nbformat_minor": 2
}
